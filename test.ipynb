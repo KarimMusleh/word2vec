{
 "cells": [
  {
   "cell_type": "code",
   "execution_count": 1,
   "id": "53aa2b8b-ef94-44bc-be8c-372feda4a1bd",
   "metadata": {},
   "outputs": [],
   "source": [
    "model_name = 'shakespeare-10-30.pl'\n",
    "word2id_name = 'shakespeare-10-30-word2id.pl'\n",
    "models_dir = 'models/'"
   ]
  },
  {
   "cell_type": "code",
   "execution_count": 4,
   "id": "c2516945-b20b-4aa4-ac7d-87d239164e5e",
   "metadata": {},
   "outputs": [],
   "source": [
    "from src.models import Skipgram_SM\n",
    "import torch\n",
    "import torch.nn.functional as F"
   ]
  },
  {
   "cell_type": "code",
   "execution_count": 6,
   "id": "49f0c4a9-a21e-42ef-9dcc-d098ef96625d",
   "metadata": {},
   "outputs": [
    {
     "name": "stderr",
     "output_type": "stream",
     "text": [
      "/tmp/ipykernel_44229/3154820269.py:1: FutureWarning: You are using `torch.load` with `weights_only=False` (the current default value), which uses the default pickle module implicitly. It is possible to construct malicious pickle data which will execute arbitrary code during unpickling (See https://github.com/pytorch/pytorch/blob/main/SECURITY.md#untrusted-models for more details). In a future release, the default value for `weights_only` will be flipped to `True`. This limits the functions that could be executed during unpickling. Arbitrary objects will no longer be allowed to be loaded via this mode unless they are explicitly allowlisted by the user via `torch.serialization.add_safe_globals`. We recommend you start setting `weights_only=True` for any use case where you don't have full control of the loaded file. Please open an issue on GitHub for any issues related to this experimental feature.\n",
      "  word2id = torch.load(models_dir + word2id_name)\n",
      "/tmp/ipykernel_44229/3154820269.py:4: FutureWarning: You are using `torch.load` with `weights_only=False` (the current default value), which uses the default pickle module implicitly. It is possible to construct malicious pickle data which will execute arbitrary code during unpickling (See https://github.com/pytorch/pytorch/blob/main/SECURITY.md#untrusted-models for more details). In a future release, the default value for `weights_only` will be flipped to `True`. This limits the functions that could be executed during unpickling. Arbitrary objects will no longer be allowed to be loaded via this mode unless they are explicitly allowlisted by the user via `torch.serialization.add_safe_globals`. We recommend you start setting `weights_only=True` for any use case where you don't have full control of the loaded file. Please open an issue on GitHub for any issues related to this experimental feature.\n",
      "  model.load_state_dict(torch.load(models_dir + model_name))\n"
     ]
    },
    {
     "data": {
      "text/plain": [
       "<All keys matched successfully>"
      ]
     },
     "execution_count": 6,
     "metadata": {},
     "output_type": "execute_result"
    }
   ],
   "source": [
    "word2id = torch.load(models_dir + word2id_name)\n",
    "id2word = {i: word for word, i in word2id.items()}\n",
    "model = Skipgram_SM(len(word2id), 10)\n",
    "model.load_state_dict(torch.load(models_dir + model_name))"
   ]
  },
  {
   "cell_type": "code",
   "execution_count": 10,
   "id": "50b1de30-f6e9-454c-8508-1f21d715e704",
   "metadata": {},
   "outputs": [
    {
     "data": {
      "text/plain": [
       "[(0.8826966285705566, 'pressing'),\n",
       " (0.8735028505325317, 'slit'),\n",
       " (0.8664693236351013, 'gory'),\n",
       " (0.8242490291595459, 'vouch'),\n",
       " (0.8182522654533386, 'whither'),\n",
       " (0.8079332113265991, 'shepherd'),\n",
       " (0.7905085682868958, 'continuance'),\n",
       " (0.7885518670082092, 'neglecting'),\n",
       " (0.787747323513031, 'wretchedness'),\n",
       " (0.7865263223648071, 'twinn'),\n",
       " (0.7863031625747681, 'cheap'),\n",
       " (0.7855322360992432, 'silver'),\n",
       " (0.7762913703918457, 'redeliver'),\n",
       " (0.7687159776687622, 'envy'),\n",
       " (0.7682114243507385, 'perjury'),\n",
       " (0.7574726939201355, 'easiest'),\n",
       " (0.757323145866394, 'temperately'),\n",
       " (0.7516161799430847, 'erpingham'),\n",
       " (0.7515144348144531, 'thracian'),\n",
       " (0.7512025833129883, 'serpigo')]"
      ]
     },
     "execution_count": 10,
     "metadata": {},
     "output_type": "execute_result"
    }
   ],
   "source": [
    "find_closest('body')"
   ]
  },
  {
   "cell_type": "code",
   "execution_count": 8,
   "id": "d38e1e16-2378-4fce-b253-56170ea7dd6d",
   "metadata": {},
   "outputs": [],
   "source": [
    "def find_closest(target, model=model, word2id=word2id, id2word=id2word, top_k=20):\n",
    "    target_idx = word2id[target]\n",
    "    target_embed = model.embed(torch.tensor([target_idx]))  # Shape (1, embedding_dim)\n",
    "    \n",
    "    # Get all embeddings at once\n",
    "    all_embeds = model.embed.weight  # Shape (num_embeddings, embedding_dim)\n",
    "    \n",
    "    # Compute cosine similarities between target and all other embeddings\n",
    "    similarities = F.cosine_similarity(target_embed, all_embeds, dim=1)  # Shape (num_embeddings,)\n",
    "    \n",
    "    # Set similarity of the target word to a very low value to exclude it from results\n",
    "    similarities[target_idx] = -float('inf')\n",
    "    \n",
    "    # Get the top K most similar embeddings\n",
    "    top_k_indices = torch.topk(similarities, top_k).indices  # Shape (top_k,)\n",
    "    \n",
    "    # Retrieve corresponding words and similarities\n",
    "    closest_words = [(similarities[i].item(), id2word[int(i)]) for i in top_k_indices]\n",
    "    \n",
    "    return closest_words"
   ]
  }
 ],
 "metadata": {
  "kernelspec": {
   "display_name": "Python 3 (ipykernel)",
   "language": "python",
   "name": "python3"
  },
  "language_info": {
   "codemirror_mode": {
    "name": "ipython",
    "version": 3
   },
   "file_extension": ".py",
   "mimetype": "text/x-python",
   "name": "python",
   "nbconvert_exporter": "python",
   "pygments_lexer": "ipython3",
   "version": "3.9.19"
  }
 },
 "nbformat": 4,
 "nbformat_minor": 5
}
